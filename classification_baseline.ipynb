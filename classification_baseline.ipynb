{
 "cells": [
  {
   "cell_type": "code",
   "execution_count": 3,
   "metadata": {
    "execution": {
     "iopub.execute_input": "2022-10-20T06:38:02.686840Z",
     "iopub.status.busy": "2022-10-20T06:38:02.685505Z",
     "iopub.status.idle": "2022-10-20T06:38:03.362973Z",
     "shell.execute_reply": "2022-10-20T06:38:03.361686Z",
     "shell.execute_reply.started": "2022-10-20T06:38:02.686793Z"
    }
   },
   "outputs": [
    {
     "name": "stdout",
     "output_type": "stream",
     "text": [
      "INFO: Pandarallel will run on 2 workers.\n",
      "INFO: Pandarallel will use Memory file system to transfer data between the main process and workers.\n"
     ]
    }
   ],
   "source": [
    "import pandas as pd\n",
    "import numpy as np\n",
    "import matplotlib.pylab as plt\n",
    "from sklearn.cluster import KMeans\n",
    "from sklearn.feature_extraction.text import TfidfVectorizer\n",
    "from sklearn.feature_extraction.text import CountVectorizer\n",
    "from sklearn.decomposition import TruncatedSVD\n",
    "from sklearn.decomposition import PCA\n",
    "from sklearn.pipeline import Pipeline\n",
    "from sklearn.metrics import silhouette_score\n",
    "from nltk.stem.porter import PorterStemmer\n",
    "from collections import Counter\n",
    "from pandarallel import pandarallel\n",
    "\n",
    "pandarallel.initialize(progress_bar=True)"
   ]
  },
  {
   "cell_type": "code",
   "execution_count": 4,
   "metadata": {
    "execution": {
     "iopub.execute_input": "2022-10-20T06:38:03.365779Z",
     "iopub.status.busy": "2022-10-20T06:38:03.364992Z",
     "iopub.status.idle": "2022-10-20T06:38:31.601402Z",
     "shell.execute_reply": "2022-10-20T06:38:31.600110Z",
     "shell.execute_reply.started": "2022-10-20T06:38:03.365732Z"
    }
   },
   "outputs": [
    {
     "name": "stdout",
     "output_type": "stream",
     "text": [
      "Collecting gdown\n",
      "  Downloading gdown-4.5.3.tar.gz (14 kB)\n",
      "  Installing build dependencies ... \u001b[?25ldone\n",
      "\u001b[?25h  Getting requirements to build wheel ... \u001b[?25ldone\n",
      "\u001b[?25h  Preparing metadata (pyproject.toml) ... \u001b[?25ldone\n",
      "\u001b[?25hRequirement already satisfied: requests[socks] in /opt/conda/lib/python3.7/site-packages (from gdown) (2.28.1)\n",
      "Requirement already satisfied: six in /opt/conda/lib/python3.7/site-packages (from gdown) (1.15.0)\n",
      "Requirement already satisfied: filelock in /opt/conda/lib/python3.7/site-packages (from gdown) (3.7.1)\n",
      "Requirement already satisfied: tqdm in /opt/conda/lib/python3.7/site-packages (from gdown) (4.64.0)\n",
      "Requirement already satisfied: beautifulsoup4 in /opt/conda/lib/python3.7/site-packages (from gdown) (4.11.1)\n",
      "Requirement already satisfied: soupsieve>1.2 in /opt/conda/lib/python3.7/site-packages (from beautifulsoup4->gdown) (2.3.1)\n",
      "Requirement already satisfied: idna<4,>=2.5 in /opt/conda/lib/python3.7/site-packages (from requests[socks]->gdown) (3.3)\n",
      "Requirement already satisfied: certifi>=2017.4.17 in /opt/conda/lib/python3.7/site-packages (from requests[socks]->gdown) (2022.6.15.2)\n",
      "Requirement already satisfied: charset-normalizer<3,>=2 in /opt/conda/lib/python3.7/site-packages (from requests[socks]->gdown) (2.1.0)\n",
      "Requirement already satisfied: urllib3<1.27,>=1.21.1 in /opt/conda/lib/python3.7/site-packages (from requests[socks]->gdown) (1.26.12)\n",
      "Requirement already satisfied: PySocks!=1.5.7,>=1.5.6 in /opt/conda/lib/python3.7/site-packages (from requests[socks]->gdown) (1.7.1)\n",
      "Building wheels for collected packages: gdown\n",
      "  Building wheel for gdown (pyproject.toml) ... \u001b[?25ldone\n",
      "\u001b[?25h  Created wheel for gdown: filename=gdown-4.5.3-py3-none-any.whl size=14821 sha256=e360430b915614f5cadf5c243a96fb9e5eae1cc6c9da85880cbe601b5b3e2297\n",
      "  Stored in directory: /root/.cache/pip/wheels/94/8d/0b/bdcd83555c3555f91a33f6c2384428d9f163c7d75ab0d272b4\n",
      "Successfully built gdown\n",
      "Installing collected packages: gdown\n",
      "Successfully installed gdown-4.5.3\n",
      "\u001b[33mWARNING: Running pip as the 'root' user can result in broken permissions and conflicting behaviour with the system package manager. It is recommended to use a virtual environment instead: https://pip.pypa.io/warnings/venv\u001b[0m\u001b[33m\n",
      "\u001b[0mNote: you may need to restart the kernel to use updated packages.\n"
     ]
    }
   ],
   "source": [
    "pip install gdown"
   ]
  },
  {
   "cell_type": "code",
   "execution_count": 5,
   "metadata": {
    "execution": {
     "iopub.execute_input": "2022-10-20T06:38:31.603393Z",
     "iopub.status.busy": "2022-10-20T06:38:31.603036Z",
     "iopub.status.idle": "2022-10-20T06:38:35.236821Z",
     "shell.execute_reply": "2022-10-20T06:38:35.235741Z",
     "shell.execute_reply.started": "2022-10-20T06:38:31.603359Z"
    }
   },
   "outputs": [
    {
     "name": "stderr",
     "output_type": "stream",
     "text": [
      "Downloading...\n",
      "From: https://github.com/MADE-TEAM-PROJECT-1/clusterization_model/raw/tfidf%2Bsvd%2Bkmeans/labels.csv\n",
      "To: /kaggle/working/labels.csv\n",
      "30.0MB [00:00, 167MB/s]                    \n"
     ]
    },
    {
     "data": {
      "text/plain": [
       "'labels.csv'"
      ]
     },
     "execution_count": 5,
     "metadata": {},
     "output_type": "execute_result"
    }
   ],
   "source": [
    "import gdown\n",
    "url = 'https://github.com/MADE-TEAM-PROJECT-1/clusterization_model/raw/tfidf%2Bsvd%2Bkmeans/labels.csv'\n",
    "gdown.download(url, fuzzy=False)"
   ]
  },
  {
   "cell_type": "code",
   "execution_count": 6,
   "metadata": {
    "execution": {
     "iopub.execute_input": "2022-10-20T06:38:35.239710Z",
     "iopub.status.busy": "2022-10-20T06:38:35.239273Z",
     "iopub.status.idle": "2022-10-20T06:38:36.091380Z",
     "shell.execute_reply": "2022-10-20T06:38:36.090251Z",
     "shell.execute_reply.started": "2022-10-20T06:38:35.239678Z"
    }
   },
   "outputs": [],
   "source": [
    "df = pd.read_csv('/kaggle/working/labels.csv')"
   ]
  },
  {
   "cell_type": "code",
   "execution_count": 7,
   "metadata": {
    "execution": {
     "iopub.execute_input": "2022-10-20T06:38:36.093299Z",
     "iopub.status.busy": "2022-10-20T06:38:36.092861Z",
     "iopub.status.idle": "2022-10-20T06:38:40.273645Z",
     "shell.execute_reply": "2022-10-20T06:38:40.272726Z",
     "shell.execute_reply.started": "2022-10-20T06:38:36.093257Z"
    }
   },
   "outputs": [
    {
     "name": "stderr",
     "output_type": "stream",
     "text": [
      "Downloading...\n",
      "From: https://drive.google.com/u/0/uc?id=1yjeG6-kIpjoxFA75M5wUuHlsmJhpGnfw&export=download\n",
      "To: /kaggle/working/data.zip\n",
      "100%|██████████| 546M/546M [00:02<00:00, 233MB/s] \n"
     ]
    },
    {
     "data": {
      "text/plain": [
       "'data.zip'"
      ]
     },
     "execution_count": 7,
     "metadata": {},
     "output_type": "execute_result"
    }
   ],
   "source": [
    "url = 'https://drive.google.com/u/0/uc?id=1yjeG6-kIpjoxFA75M5wUuHlsmJhpGnfw&export=download'\n",
    "gdown.download(url, fuzzy=False)"
   ]
  },
  {
   "cell_type": "code",
   "execution_count": 8,
   "metadata": {
    "execution": {
     "iopub.execute_input": "2022-10-20T06:38:40.275164Z",
     "iopub.status.busy": "2022-10-20T06:38:40.274847Z",
     "iopub.status.idle": "2022-10-20T06:38:57.904087Z",
     "shell.execute_reply": "2022-10-20T06:38:57.902696Z",
     "shell.execute_reply.started": "2022-10-20T06:38:40.275135Z"
    }
   },
   "outputs": [
    {
     "name": "stdout",
     "output_type": "stream",
     "text": [
      "\n",
      "7-Zip [64] 16.02 : Copyright (c) 1999-2016 Igor Pavlov : 2016-05-21\n",
      "p7zip Version 16.02 (locale=C.UTF-8,Utf16=on,HugeFiles=on,64 bits,4 CPUs Intel(R) Xeon(R) CPU @ 2.20GHz (406F0),ASM,AES-NI)\n",
      "\n",
      "Scanning the drive for archives:\n",
      "  0M Scan /kaggle/workin                        1 file, 546094231 bytes (521 MiB)\n",
      "\n",
      "Extracting archive: /kaggle/working/data.zip\n",
      "--\n",
      "Path = /kaggle/working/data.zip\n",
      "Type = zip\n",
      "Physical Size = 546094231\n",
      "\n",
      "      1% 5 - data/part_1_clean.jso                                2% 5 - data/part_1_clean.jso                                3% 5 - data/part_1_clean.jso                                4% 5 - data/part_1_clean.jso                                6% 5 - data/part_1_clean.jso                                7% 5 - data/part_1_clean.jso                                8% 5 - data/part_1_clean.jso                                9% 5 - data/part_1_clean.jso                               11% 5 - data/part_1_clean.jso                               12% 5 - data/part_1_clean.jso                               13% 5 - data/part_1_clean.jso                               15% 5 - data/part_1_clean.jso                               16% 5 - data/part_1_clean.jso                               17% 5 - data/part_1_clean.jso                               18% 5 - data/part_1_clean.jso                               19% 5 - data/part_1_clean.jso                               20% 5 - data/part_1_clean.jso                               21% 5 - data/part_1_clean.jso                               22% 5 - data/part_1_clean.jso                               23% 5 - data/part_1_clean.jso                               24% 5 - data/part_1_clean.jso                               25% 5 - data/part_1_clean.jso                               26% 5 - data/part_1_clean.jso                               27% 5 - data/part_1_clean.jso                               28% 5 - data/part_1_clean.jso                               29% 5 - data/part_1_clean.jso                               30% 5 - data/part_1_clean.jso                               31% 5 - data/part_1_clean.jso                               33% 5 - data/part_1_clean.jso                               34% 5 - data/part_1_clean.jso                               35% 5 - data/part_1_clean.jso                               37% 5 - data/part_1_clean.jso                               38% 5 - data/part_1_clean.jso                               39% 5 - data/part_1_clean.jso                               41% 5 - data/part_1_clean.jso                               42% 5 - data/part_1_clean.jso                               43% 5 - data/part_1_clean.jso                               44% 5 - data/part_1_clean.jso                               45% 5 - data/part_1_clean.jso                               47% 5 - data/part_1_clean.jso                               49% 6 - data/part_2_clean.jso                               50% 6 - data/part_2_clean.jso                               51% 6 - data/part_2_clean.jso                               52% 6 - data/part_2_clean.jso                               53% 6 - data/part_2_clean.jso                               55% 6 - data/part_2_clean.jso                               56% 6 - data/part_2_clean.jso                               57% 6 - data/part_2_clean.jso                               59% 6 - data/part_2_clean.jso                               60% 6 - data/part_2_clean.jso                               61% 6 - data/part_2_clean.jso                               62% 6 - data/part_2_clean.jso                               63% 6 - data/part_2_clean.jso                               64% 6 - data/part_2_clean.jso                               65% 6 - data/part_2_clean.jso                               66% 6 - data/part_2_clean.jso                               68% 6 - data/part_2_clean.jso                               69% 6 - data/part_2_clean.jso                               70% 6 - data/part_2_clean.jso                               71% 6 - data/part_2_clean.jso                               72% 6 - data/part_2_clean.jso                               73% 6 - data/part_2_clean.jso                               74% 6 - data/part_2_clean.jso                               75% 6 - data/part_2_clean.jso                               77% 6 - data/part_2_clean.jso                               78% 6 - data/part_2_clean.jso                               79% 6 - data/part_2_clean.jso                               81% 6 - data/part_2_clean.jso                               82% 6 - data/part_2_clean.jso                               83% 6 - data/part_2_clean.jso                               84% 6 - data/part_2_clean.jso                               86% 6 - data/part_2_clean.jso                               87% 6 - data/part_2_clean.jso                               89% 7 - data/part_3_clean.jso                               90% 7 - data/part_3_clean.jso                               91% 7 - data/part_3_clean.jso                               92% 7 - data/part_3_clean.jso                               93% 7 - data/part_3_clean.jso                               95% 7 - data/part_3_clean.jso                               96% 7 - data/part_3_clean.jso                               97% 7 - data/part_3_clean.jso                               98% 7 - data/part_3_clean.jso                              Everything is Ok\n",
      "\n",
      "Folders: 1\n",
      "Files: 7\n",
      "Size:       1992269887\n",
      "Compressed: 546094231\n"
     ]
    }
   ],
   "source": [
    "!7z x /kaggle/working/data.zip"
   ]
  },
  {
   "cell_type": "code",
   "execution_count": 9,
   "metadata": {
    "execution": {
     "iopub.execute_input": "2022-10-20T06:38:57.906679Z",
     "iopub.status.busy": "2022-10-20T06:38:57.906289Z",
     "iopub.status.idle": "2022-10-20T06:38:57.929876Z",
     "shell.execute_reply": "2022-10-20T06:38:57.928702Z",
     "shell.execute_reply.started": "2022-10-20T06:38:57.906642Z"
    }
   },
   "outputs": [
    {
     "data": {
      "text/html": [
       "<div>\n",
       "<style scoped>\n",
       "    .dataframe tbody tr th:only-of-type {\n",
       "        vertical-align: middle;\n",
       "    }\n",
       "\n",
       "    .dataframe tbody tr th {\n",
       "        vertical-align: top;\n",
       "    }\n",
       "\n",
       "    .dataframe thead th {\n",
       "        text-align: right;\n",
       "    }\n",
       "</style>\n",
       "<table border=\"1\" class=\"dataframe\">\n",
       "  <thead>\n",
       "    <tr style=\"text-align: right;\">\n",
       "      <th></th>\n",
       "      <th>_id</th>\n",
       "      <th>label</th>\n",
       "    </tr>\n",
       "  </thead>\n",
       "  <tbody>\n",
       "    <tr>\n",
       "      <th>0</th>\n",
       "      <td>53e99784b7602d9701f3e151</td>\n",
       "      <td>23</td>\n",
       "    </tr>\n",
       "    <tr>\n",
       "      <th>1</th>\n",
       "      <td>53e99784b7602d9701f3e15d</td>\n",
       "      <td>21</td>\n",
       "    </tr>\n",
       "    <tr>\n",
       "      <th>2</th>\n",
       "      <td>53e99784b7602d9701f3f411</td>\n",
       "      <td>13</td>\n",
       "    </tr>\n",
       "    <tr>\n",
       "      <th>3</th>\n",
       "      <td>53e99792b7602d9701f5af1a</td>\n",
       "      <td>34</td>\n",
       "    </tr>\n",
       "    <tr>\n",
       "      <th>4</th>\n",
       "      <td>53e99792b7602d9701f5b0a5</td>\n",
       "      <td>35</td>\n",
       "    </tr>\n",
       "  </tbody>\n",
       "</table>\n",
       "</div>"
      ],
      "text/plain": [
       "                        _id  label\n",
       "0  53e99784b7602d9701f3e151     23\n",
       "1  53e99784b7602d9701f3e15d     21\n",
       "2  53e99784b7602d9701f3f411     13\n",
       "3  53e99792b7602d9701f5af1a     34\n",
       "4  53e99792b7602d9701f5b0a5     35"
      ]
     },
     "execution_count": 9,
     "metadata": {},
     "output_type": "execute_result"
    }
   ],
   "source": [
    "df.head()"
   ]
  },
  {
   "cell_type": "code",
   "execution_count": 10,
   "metadata": {
    "execution": {
     "iopub.execute_input": "2022-10-20T06:38:57.932732Z",
     "iopub.status.busy": "2022-10-20T06:38:57.931507Z",
     "iopub.status.idle": "2022-10-20T06:38:57.946165Z",
     "shell.execute_reply": "2022-10-20T06:38:57.945019Z",
     "shell.execute_reply.started": "2022-10-20T06:38:57.932682Z"
    }
   },
   "outputs": [],
   "source": [
    "COLUMNS_TO_DROP = ['year', 'n_citation', 'references', 'authors']\n",
    "NUM_PARTS = 3\n",
    "RANDOM_STATE = 42\n",
    "REDUCED_DIMENSION = 20\n",
    "NUM_CLUSTERS = 50\n",
    "\n",
    "def plot_clusters(cluster_ids, cluster_sizes, cluster_names):\n",
    "    plt.figure(figsize=(18, 7))\n",
    "    plt.bar(cluster_ids, cluster_sizes)\n",
    "    plt.xlabel('Cluster id')\n",
    "    plt.xticks(range(NUM_CLUSTERS))\n",
    "    plt.title('Cluster sizes')\n",
    "    ax = plt.gca()\n",
    "    for bar, word in zip(ax.patches, cluster_names):\n",
    "        ax.text(bar.get_x() + bar.get_width() / 4, bar.get_y() + bar.get_height()*1.05, word, rotation='vertical', color = 'black', va = 'bottom', fontsize=10) \n",
    "    plt.show()\n",
    "\n",
    "def get_score(X, cluster_labels, sample_size=10000):\n",
    "    return silhouette_score(X, pipe['kmeans'].labels_, sample_size=sample_size, random_state=RANDOM_STATE)\n",
    "\n",
    "def get_text_data(file_path):\n",
    "    data = pd.read_json(file_path, dtype={'title': 'string', 'abstract': 'string'}).drop(COLUMNS_TO_DROP, axis=1)\n",
    "    data['keywords'] = data['keywords'].apply(lambda row: ' '.join(row)).astype('string')\n",
    "    data['fos'] = data['fos'].apply(lambda row: ' '.join(row)).astype('string')\n",
    "    data['venue'] = data['venue'].apply(lambda row: row.get('name_d', '')).astype('string')\n",
    "    \n",
    "    data['text'] = data[['keywords', 'fos', 'abstract']].apply(lambda row: ' '.join(row.astype(str)), axis=1).astype('string')\n",
    "    data.drop(['title', 'abstract', 'venue'], axis=1, inplace=True)\n",
    "    return data"
   ]
  },
  {
   "cell_type": "code",
   "execution_count": 11,
   "metadata": {
    "execution": {
     "iopub.execute_input": "2022-10-20T06:38:57.948047Z",
     "iopub.status.busy": "2022-10-20T06:38:57.947632Z",
     "iopub.status.idle": "2022-10-20T06:41:10.808933Z",
     "shell.execute_reply": "2022-10-20T06:41:10.807669Z",
     "shell.execute_reply.started": "2022-10-20T06:38:57.948015Z"
    }
   },
   "outputs": [
    {
     "name": "stdout",
     "output_type": "stream",
     "text": [
      "<class 'pandas.core.frame.DataFrame'>\n",
      "RangeIndex: 1084405 entries, 0 to 1084404\n",
      "Data columns (total 4 columns):\n",
      " #   Column    Non-Null Count    Dtype \n",
      "---  ------    --------------    ----- \n",
      " 0   _id       1084405 non-null  object\n",
      " 1   keywords  1084405 non-null  string\n",
      " 2   fos       1084405 non-null  string\n",
      " 3   text      1084405 non-null  string\n",
      "dtypes: object(1), string(3)\n",
      "memory usage: 33.1+ MB\n"
     ]
    }
   ],
   "source": [
    "articles = pd.concat(get_text_data(f'data/part_{i+1}_clean.json') for i in range(NUM_PARTS))\n",
    "#articles = pd.read_json(get_text_data('/input/articles/part_3_clean.json'))\n",
    "articles.reset_index(drop=True, inplace=True)\n",
    "# articles = pd.read_json('articles.json')\n",
    "\n",
    "articles.info()"
   ]
  },
  {
   "cell_type": "code",
   "execution_count": 12,
   "metadata": {
    "execution": {
     "iopub.execute_input": "2022-10-20T06:41:10.813416Z",
     "iopub.status.busy": "2022-10-20T06:41:10.812932Z",
     "iopub.status.idle": "2022-10-20T06:41:10.819427Z",
     "shell.execute_reply": "2022-10-20T06:41:10.818219Z",
     "shell.execute_reply.started": "2022-10-20T06:41:10.813381Z"
    }
   },
   "outputs": [],
   "source": [
    "#articles_trunc = articles.loc[articles.index < 500000]"
   ]
  },
  {
   "cell_type": "code",
   "execution_count": 13,
   "metadata": {
    "execution": {
     "iopub.execute_input": "2022-10-20T06:41:10.821494Z",
     "iopub.status.busy": "2022-10-20T06:41:10.820960Z",
     "iopub.status.idle": "2022-10-20T06:41:10.831545Z",
     "shell.execute_reply": "2022-10-20T06:41:10.830185Z",
     "shell.execute_reply.started": "2022-10-20T06:41:10.821449Z"
    }
   },
   "outputs": [],
   "source": [
    "#df_articles = pd.merge(articles, df)\n",
    "#df_articles.head()"
   ]
  },
  {
   "cell_type": "code",
   "execution_count": 14,
   "metadata": {
    "execution": {
     "iopub.execute_input": "2022-10-20T06:41:10.834114Z",
     "iopub.status.busy": "2022-10-20T06:41:10.833703Z",
     "iopub.status.idle": "2022-10-20T07:28:02.805923Z",
     "shell.execute_reply": "2022-10-20T07:28:02.796739Z",
     "shell.execute_reply.started": "2022-10-20T06:41:10.834081Z"
    }
   },
   "outputs": [
    {
     "data": {
      "application/vnd.jupyter.widget-view+json": {
       "model_id": "969e295293d849278a8431d585749ff8",
       "version_major": 2,
       "version_minor": 0
      },
      "text/plain": [
       "VBox(children=(HBox(children=(IntProgress(value=0, description='0.00%', max=2168812), Label(value='0 / 2168812…"
      ]
     },
     "metadata": {},
     "output_type": "display_data"
    },
    {
     "name": "stdout",
     "output_type": "stream",
     "text": [
      "CPU times: user 1min 2s, sys: 10.3 s, total: 1min 13s\n",
      "Wall time: 46min 51s\n"
     ]
    }
   ],
   "source": [
    "%%time\n",
    "\n",
    "def normalize(sentence):\n",
    "    from nltk.stem.porter import PorterStemmer\n",
    "    porter = PorterStemmer()\n",
    "    return ' '.join(porter.stem(word) for word in sentence.split())\n",
    "\n",
    "articles = articles.parallel_applymap(normalize)"
   ]
  },
  {
   "cell_type": "code",
   "execution_count": 15,
   "metadata": {
    "execution": {
     "iopub.execute_input": "2022-10-20T07:28:02.854533Z",
     "iopub.status.busy": "2022-10-20T07:28:02.852653Z",
     "iopub.status.idle": "2022-10-20T07:28:02.917862Z",
     "shell.execute_reply": "2022-10-20T07:28:02.914239Z",
     "shell.execute_reply.started": "2022-10-20T07:28:02.854366Z"
    }
   },
   "outputs": [
    {
     "data": {
      "text/html": [
       "<div>\n",
       "<style scoped>\n",
       "    .dataframe tbody tr th:only-of-type {\n",
       "        vertical-align: middle;\n",
       "    }\n",
       "\n",
       "    .dataframe tbody tr th {\n",
       "        vertical-align: top;\n",
       "    }\n",
       "\n",
       "    .dataframe thead th {\n",
       "        text-align: right;\n",
       "    }\n",
       "</style>\n",
       "<table border=\"1\" class=\"dataframe\">\n",
       "  <thead>\n",
       "    <tr style=\"text-align: right;\">\n",
       "      <th></th>\n",
       "      <th>_id</th>\n",
       "      <th>keywords</th>\n",
       "      <th>fos</th>\n",
       "      <th>text</th>\n",
       "    </tr>\n",
       "  </thead>\n",
       "  <tbody>\n",
       "    <tr>\n",
       "      <th>0</th>\n",
       "      <td>53e99784b7602d9701f3e151</td>\n",
       "      <td>handwrit recognit prototyp imag segment comput...</td>\n",
       "      <td>intellig charact recognit pattern recognit com...</td>\n",
       "      <td>handwrit recognit prototyp imag segment comput...</td>\n",
       "    </tr>\n",
       "    <tr>\n",
       "      <th>1</th>\n",
       "      <td>53e99784b7602d9701f3e15d</td>\n",
       "      <td>sequenti circuit statist distribut set-up time...</td>\n",
       "      <td>delay calcul time failur mont carlo method seq...</td>\n",
       "      <td>sequenti circuit statist distribut set-up time...</td>\n",
       "    </tr>\n",
       "    <tr>\n",
       "      <th>2</th>\n",
       "      <td>53e99784b7602d9701f3f411</td>\n",
       "      <td>internet hypermedia markup languag inform reso...</td>\n",
       "      <td>xml base world wide web xml framework xml encr...</td>\n",
       "      <td>internet hypermedia markup languag inform reso...</td>\n",
       "    </tr>\n",
       "    <tr>\n",
       "      <th>3</th>\n",
       "      <td>53e99792b7602d9701f5af1a</td>\n",
       "      <td>cognit multi-ag system ubiquit comput adips-da...</td>\n",
       "      <td>syma comput scienc symbiot comput multi-ag sys...</td>\n",
       "      <td>cognit multi-ag system ubiquit comput adips-da...</td>\n",
       "    </tr>\n",
       "    <tr>\n",
       "      <th>4</th>\n",
       "      <td>53e99792b7602d9701f5b0a5</td>\n",
       "      <td>balanc scorecard</td>\n",
       "      <td>leas comput scienc balanc scorecard busi admin...</td>\n",
       "      <td>balanc scorecard leas comput scienc balanc sco...</td>\n",
       "    </tr>\n",
       "    <tr>\n",
       "      <th>...</th>\n",
       "      <td>...</td>\n",
       "      <td>...</td>\n",
       "      <td>...</td>\n",
       "      <td>...</td>\n",
       "    </tr>\n",
       "    <tr>\n",
       "      <th>1084400</th>\n",
       "      <td>6052d1c79e795e222b127d58</td>\n",
       "      <td>sketch inform retriev solid model task analysi...</td>\n",
       "      <td>train set 3d model task analysi inform retriev...</td>\n",
       "      <td>sketch inform retriev solid model task analysi...</td>\n",
       "    </tr>\n",
       "    <tr>\n",
       "      <th>1084401</th>\n",
       "      <td>6052fa249e795e222b13be15</td>\n",
       "      <td>hash function random oracl discret mathemat co...</td>\n",
       "      <td>discret mathemat time space comput scienc rand...</td>\n",
       "      <td>hash function random oracl discret mathemat co...</td>\n",
       "    </tr>\n",
       "    <tr>\n",
       "      <th>1084402</th>\n",
       "      <td>6054328e9e795e40330e1fa2</td>\n",
       "      <td>stereopsi comput vision daytim artifici intell...</td>\n",
       "      <td>network on comput vision comput scienc stereop...</td>\n",
       "      <td>stereopsi comput vision daytim artifici intell...</td>\n",
       "    </tr>\n",
       "    <tr>\n",
       "      <th>1084403</th>\n",
       "      <td>605828249e795e357b471758</td>\n",
       "      <td>search engin data as a servic autonom system (...</td>\n",
       "      <td>search engin situat awar comput scienc interne...</td>\n",
       "      <td>search engin data as a servic autonom system (...</td>\n",
       "    </tr>\n",
       "    <tr>\n",
       "      <th>1084404</th>\n",
       "      <td>605829309e795e357b47179d</td>\n",
       "      <td>search engin index control vocabulari ontolog ...</td>\n",
       "      <td>content type ontolog (inform science) text min...</td>\n",
       "      <td>search engin index control vocabulari ontolog ...</td>\n",
       "    </tr>\n",
       "  </tbody>\n",
       "</table>\n",
       "<p>1084405 rows × 4 columns</p>\n",
       "</div>"
      ],
      "text/plain": [
       "                              _id  \\\n",
       "0        53e99784b7602d9701f3e151   \n",
       "1        53e99784b7602d9701f3e15d   \n",
       "2        53e99784b7602d9701f3f411   \n",
       "3        53e99792b7602d9701f5af1a   \n",
       "4        53e99792b7602d9701f5b0a5   \n",
       "...                           ...   \n",
       "1084400  6052d1c79e795e222b127d58   \n",
       "1084401  6052fa249e795e222b13be15   \n",
       "1084402  6054328e9e795e40330e1fa2   \n",
       "1084403  605828249e795e357b471758   \n",
       "1084404  605829309e795e357b47179d   \n",
       "\n",
       "                                                  keywords  \\\n",
       "0        handwrit recognit prototyp imag segment comput...   \n",
       "1        sequenti circuit statist distribut set-up time...   \n",
       "2        internet hypermedia markup languag inform reso...   \n",
       "3        cognit multi-ag system ubiquit comput adips-da...   \n",
       "4                                         balanc scorecard   \n",
       "...                                                    ...   \n",
       "1084400  sketch inform retriev solid model task analysi...   \n",
       "1084401  hash function random oracl discret mathemat co...   \n",
       "1084402  stereopsi comput vision daytim artifici intell...   \n",
       "1084403  search engin data as a servic autonom system (...   \n",
       "1084404  search engin index control vocabulari ontolog ...   \n",
       "\n",
       "                                                       fos  \\\n",
       "0        intellig charact recognit pattern recognit com...   \n",
       "1        delay calcul time failur mont carlo method seq...   \n",
       "2        xml base world wide web xml framework xml encr...   \n",
       "3        syma comput scienc symbiot comput multi-ag sys...   \n",
       "4        leas comput scienc balanc scorecard busi admin...   \n",
       "...                                                    ...   \n",
       "1084400  train set 3d model task analysi inform retriev...   \n",
       "1084401  discret mathemat time space comput scienc rand...   \n",
       "1084402  network on comput vision comput scienc stereop...   \n",
       "1084403  search engin situat awar comput scienc interne...   \n",
       "1084404  content type ontolog (inform science) text min...   \n",
       "\n",
       "                                                      text  \n",
       "0        handwrit recognit prototyp imag segment comput...  \n",
       "1        sequenti circuit statist distribut set-up time...  \n",
       "2        internet hypermedia markup languag inform reso...  \n",
       "3        cognit multi-ag system ubiquit comput adips-da...  \n",
       "4        balanc scorecard leas comput scienc balanc sco...  \n",
       "...                                                    ...  \n",
       "1084400  sketch inform retriev solid model task analysi...  \n",
       "1084401  hash function random oracl discret mathemat co...  \n",
       "1084402  stereopsi comput vision daytim artifici intell...  \n",
       "1084403  search engin data as a servic autonom system (...  \n",
       "1084404  search engin index control vocabulari ontolog ...  \n",
       "\n",
       "[1084405 rows x 4 columns]"
      ]
     },
     "execution_count": 15,
     "metadata": {},
     "output_type": "execute_result"
    }
   ],
   "source": [
    "articles"
   ]
  },
  {
   "cell_type": "code",
   "execution_count": 16,
   "metadata": {
    "execution": {
     "iopub.execute_input": "2022-10-20T07:28:02.926065Z",
     "iopub.status.busy": "2022-10-20T07:28:02.923956Z",
     "iopub.status.idle": "2022-10-20T07:28:02.946961Z",
     "shell.execute_reply": "2022-10-20T07:28:02.942118Z",
     "shell.execute_reply.started": "2022-10-20T07:28:02.925986Z"
    }
   },
   "outputs": [],
   "source": [
    "# #vectorizer = CountVectorizer(max_df=0.7, min_df=15, ngram_range=(1, 2), stop_words='english')\n",
    "# vectorizer = TfidfVectorizer(max_df=0.5, min_df=10, ngram_range=(1, 2), stop_words='english')\n",
    "# svd = TruncatedSVD(n_components=REDUCED_DIMENSION, random_state=RANDOM_STATE)\n",
    "# #kmeans = KMeans(n_clusters=NUM_CLUSTERS, random_state=RANDOM_STATE)\n",
    "\n",
    "vectorizer = CountVectorizer(max_df=0.4, min_df=15, ngram_range=(1, 2), stop_words='english')\n",
    "svd = TruncatedSVD(n_components=REDUCED_DIMENSION, random_state=RANDOM_STATE)\n",
    "#lr= LogisticRegression(..., n_jobs=-1, random_state=RANDOM_STATE)\n",
    "\n",
    "pipe = Pipeline([\n",
    "    ('cv', vectorizer),\n",
    "    ('svd', svd)\n",
    "    #('lr', lr)\n",
    "])"
   ]
  },
  {
   "cell_type": "code",
   "execution_count": 17,
   "metadata": {
    "execution": {
     "iopub.execute_input": "2022-10-20T07:28:02.955893Z",
     "iopub.status.busy": "2022-10-20T07:28:02.953512Z",
     "iopub.status.idle": "2022-10-20T07:42:21.394399Z",
     "shell.execute_reply": "2022-10-20T07:42:21.392908Z",
     "shell.execute_reply.started": "2022-10-20T07:28:02.955578Z"
    }
   },
   "outputs": [
    {
     "name": "stdout",
     "output_type": "stream",
     "text": [
      "(1084405, 20)\n",
      "CPU times: user 14min 9s, sys: 29.1 s, total: 14min 38s\n",
      "Wall time: 14min 18s\n"
     ]
    }
   ],
   "source": [
    "%%time\n",
    "pipe.fit(articles.text)\n",
    "\n",
    "#cluster_ids, cluster_sizes = np.unique(kmeans.labels_, return_counts=True)\n",
    "\n",
    "articles_compressed = pipe.transform(articles.text)\n",
    "print(articles_compressed.shape)"
   ]
  },
  {
   "cell_type": "code",
   "execution_count": 18,
   "metadata": {
    "execution": {
     "iopub.execute_input": "2022-10-20T07:42:21.397653Z",
     "iopub.status.busy": "2022-10-20T07:42:21.397239Z",
     "iopub.status.idle": "2022-10-20T07:42:21.407487Z",
     "shell.execute_reply": "2022-10-20T07:42:21.406232Z",
     "shell.execute_reply.started": "2022-10-20T07:42:21.397595Z"
    }
   },
   "outputs": [
    {
     "data": {
      "text/plain": [
       "array([[ 1.88034934, -1.81758231,  2.18749301, ...,  0.54535266,\n",
       "        -1.46390812,  0.7414943 ],\n",
       "       [ 9.46467805, -2.41052907,  2.47283802, ..., -0.19659715,\n",
       "         6.4791655 ,  6.37901079],\n",
       "       [ 3.52039019, -1.69706344, -3.67305629, ...,  1.75894639,\n",
       "        -0.55974357,  1.07961953],\n",
       "       ...,\n",
       "       [ 5.284444  ,  4.19135315,  2.96967699, ..., -1.17171912,\n",
       "         1.75348914, -0.66394003],\n",
       "       [ 7.8384693 , -1.05813383, -4.16587054, ...,  0.01757972,\n",
       "         0.62331992, -1.23747047],\n",
       "       [ 2.50348714, -1.23869986, -0.39138076, ...,  0.1697864 ,\n",
       "        -0.92006701,  0.20827713]])"
      ]
     },
     "execution_count": 18,
     "metadata": {},
     "output_type": "execute_result"
    }
   ],
   "source": [
    "articles_compressed"
   ]
  },
  {
   "cell_type": "code",
   "execution_count": 19,
   "metadata": {
    "execution": {
     "iopub.execute_input": "2022-10-20T07:42:21.410021Z",
     "iopub.status.busy": "2022-10-20T07:42:21.409271Z",
     "iopub.status.idle": "2022-10-20T07:42:21.419566Z",
     "shell.execute_reply": "2022-10-20T07:42:21.418266Z",
     "shell.execute_reply.started": "2022-10-20T07:42:21.409976Z"
    }
   },
   "outputs": [],
   "source": [
    "label = df['label'].to_numpy()"
   ]
  },
  {
   "cell_type": "code",
   "execution_count": 20,
   "metadata": {
    "execution": {
     "iopub.execute_input": "2022-10-20T07:42:21.422798Z",
     "iopub.status.busy": "2022-10-20T07:42:21.421632Z",
     "iopub.status.idle": "2022-10-20T07:42:21.433971Z",
     "shell.execute_reply": "2022-10-20T07:42:21.432598Z",
     "shell.execute_reply.started": "2022-10-20T07:42:21.422757Z"
    }
   },
   "outputs": [
    {
     "data": {
      "text/plain": [
       "array([23, 21, 13, ...,  8, 45, 45])"
      ]
     },
     "execution_count": 20,
     "metadata": {},
     "output_type": "execute_result"
    }
   ],
   "source": [
    "label"
   ]
  },
  {
   "cell_type": "code",
   "execution_count": 21,
   "metadata": {
    "execution": {
     "iopub.execute_input": "2022-10-20T07:42:21.436852Z",
     "iopub.status.busy": "2022-10-20T07:42:21.435747Z",
     "iopub.status.idle": "2022-10-20T07:42:21.629302Z",
     "shell.execute_reply": "2022-10-20T07:42:21.627961Z",
     "shell.execute_reply.started": "2022-10-20T07:42:21.436799Z"
    }
   },
   "outputs": [],
   "source": [
    "from sklearn.model_selection import train_test_split\n",
    "\n",
    "X = articles_compressed\n",
    "y = label\n",
    "X_train, X_test, y_train, y_test = train_test_split(X, y, test_size=0.3, random_state=0)"
   ]
  },
  {
   "cell_type": "code",
   "execution_count": 22,
   "metadata": {
    "execution": {
     "iopub.execute_input": "2022-10-20T07:42:21.631991Z",
     "iopub.status.busy": "2022-10-20T07:42:21.631455Z",
     "iopub.status.idle": "2022-10-20T07:42:21.638552Z",
     "shell.execute_reply": "2022-10-20T07:42:21.637661Z",
     "shell.execute_reply.started": "2022-10-20T07:42:21.631942Z"
    }
   },
   "outputs": [],
   "source": [
    "from sklearn.linear_model import LogisticRegression\n",
    "from sklearn import metrics\n",
    "logreg = LogisticRegression(n_jobs = -1)"
   ]
  },
  {
   "cell_type": "code",
   "execution_count": 23,
   "metadata": {
    "execution": {
     "iopub.execute_input": "2022-10-20T07:42:21.640562Z",
     "iopub.status.busy": "2022-10-20T07:42:21.640015Z",
     "iopub.status.idle": "2022-10-20T07:56:28.983578Z",
     "shell.execute_reply": "2022-10-20T07:56:28.982042Z",
     "shell.execute_reply.started": "2022-10-20T07:42:21.640519Z"
    }
   },
   "outputs": [
    {
     "data": {
      "text/plain": [
       "OneVsRestClassifier(estimator=LogisticRegression(n_jobs=-1))"
      ]
     },
     "execution_count": 23,
     "metadata": {},
     "output_type": "execute_result"
    }
   ],
   "source": [
    "from sklearn.multiclass import OneVsRestClassifier\n",
    "ovr_class = OneVsRestClassifier(logreg)\n",
    "ovr_class.fit(X_train, y_train)"
   ]
  },
  {
   "cell_type": "code",
   "execution_count": 24,
   "metadata": {
    "execution": {
     "iopub.execute_input": "2022-10-20T07:56:28.985952Z",
     "iopub.status.busy": "2022-10-20T07:56:28.985493Z",
     "iopub.status.idle": "2022-10-20T07:56:30.540651Z",
     "shell.execute_reply": "2022-10-20T07:56:30.539253Z",
     "shell.execute_reply.started": "2022-10-20T07:56:28.985910Z"
    }
   },
   "outputs": [
    {
     "name": "stdout",
     "output_type": "stream",
     "text": [
      "Accuracy of logreg OneVsRest classifier on test set: 0.582810\n",
      "Weighted F-1 score of logreg OneVsRest classifier on test set: 0.580681\n"
     ]
    }
   ],
   "source": [
    "from sklearn.metrics import f1_score\n",
    "\n",
    "y_pred = ovr_class.predict(X_test)\n",
    "f1 = f1_score(y_test, y_pred, average = 'weighted')\n",
    "print('Accuracy of logreg OneVsRest classifier on test set: {:.6f}'.format(ovr_class.score(X_test, y_test)))\n",
    "print('Weighted F-1 score of logreg OneVsRest classifier on test set: {:.6f}'.format(f1))"
   ]
  },
  {
   "cell_type": "code",
   "execution_count": null,
   "metadata": {},
   "outputs": [],
   "source": []
  }
 ],
 "metadata": {
  "kernelspec": {
   "display_name": "Python 3 (ipykernel)",
   "language": "python",
   "name": "python3"
  },
  "language_info": {
   "codemirror_mode": {
    "name": "ipython",
    "version": 3
   },
   "file_extension": ".py",
   "mimetype": "text/x-python",
   "name": "python",
   "nbconvert_exporter": "python",
   "pygments_lexer": "ipython3",
   "version": "3.9.12"
  }
 },
 "nbformat": 4,
 "nbformat_minor": 4
}
